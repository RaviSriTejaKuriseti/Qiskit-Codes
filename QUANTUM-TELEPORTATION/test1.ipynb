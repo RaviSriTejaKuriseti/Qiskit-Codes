{
 "cells": [
  {
   "cell_type": "code",
   "execution_count": 1,
   "id": "31e8595a",
   "metadata": {},
   "outputs": [],
   "source": [
    "import numpy as np\n",
    "from qiskit import *\n",
    "%matplotlib inline"
   ]
  },
  {
   "cell_type": "code",
   "execution_count": 2,
   "id": "f7a29790",
   "metadata": {},
   "outputs": [
    {
     "data": {
      "text/plain": [
       "<qiskit.circuit.instructionset.InstructionSet at 0x23830ad72b0>"
      ]
     },
     "execution_count": 2,
     "metadata": {},
     "output_type": "execute_result"
    }
   ],
   "source": [
    "qr = QuantumRegister(3, name=\"q\")    # Protocol uses 3 qubits\n",
    "crz = ClassicalRegister(1, name=\"crz\") # and 2 classical bits\n",
    "crx = ClassicalRegister(1, name=\"crx\") # in 2 different registers\n",
    "circ = QuantumCircuit(qr, crz, crx)\n",
    "q0=[0.8,0.6j]\n",
    "circ.initialize(q0,0)"
   ]
  },
  {
   "cell_type": "code",
   "execution_count": 3,
   "id": "06734981",
   "metadata": {},
   "outputs": [
    {
     "data": {
      "text/plain": [
       "'\\nBuilding the circuit for producing EPR\\n'"
      ]
     },
     "execution_count": 3,
     "metadata": {},
     "output_type": "execute_result"
    }
   ],
   "source": [
    "circ.barrier()\n",
    "circ.h(1)\n",
    "circ.cx(1,2)   \n",
    "'''\n",
    "Building the circuit for producing EPR\n",
    "'''"
   ]
  },
  {
   "cell_type": "code",
   "execution_count": 4,
   "id": "34c9c173",
   "metadata": {},
   "outputs": [
    {
     "data": {
      "text/plain": [
       "<qiskit.circuit.instructionset.InstructionSet at 0x2382caadb80>"
      ]
     },
     "execution_count": 4,
     "metadata": {},
     "output_type": "execute_result"
    }
   ],
   "source": [
    "circ.barrier()\n",
    "circ.cx(0,1)\n",
    "circ.h(0)\n",
    "circ.barrier()"
   ]
  },
  {
   "cell_type": "code",
   "execution_count": 5,
   "id": "dc50d4aa",
   "metadata": {},
   "outputs": [
    {
     "data": {
      "image/png": "[encoded data removed]",
      "text/plain": [
       "<Figure size 814.91x325.08 with 1 Axes>"
      ]
     },
     "execution_count": 5,
     "metadata": {},
     "output_type": "execute_result"
    }
   ],
   "source": [
    "circ.measure([0,1],[0,1])\n",
    "circ.x(2).c_if(crx, 1) # Apply gates if the registers \n",
    "circ.z(2).c_if(crz, 1) # are in the state '1'\n",
    "circ.draw('mpl')"
   ]
  },
  {
   "cell_type": "code",
   "execution_count": 6,
   "id": "7cc7336a",
   "metadata": {},
   "outputs": [],
   "source": [
    "sim = Aer.get_backend('aer_simulator')\n",
    "circ.save_statevector()\n",
    "out_vector = sim.run(circ).result().get_statevector()\n"
   ]
  },
  {
   "cell_type": "code",
   "execution_count": 7,
   "id": "a8b9d685",
   "metadata": {},
   "outputs": [
    {
     "name": "stdout",
     "output_type": "stream",
     "text": [
      "[ 0.00000000e+00+0.j   8.00000000e-01+0.j   0.00000000e+00+0.j\n",
      "  0.00000000e+00-0.j  -0.00000000e+00+0.j   7.34788079e-17+0.6j\n",
      " -0.00000000e+00+0.j  -0.00000000e+00+0.j ]\n"
     ]
    }
   ],
   "source": [
    "print(out_vector)"
   ]
  },
  {
   "cell_type": "code",
   "execution_count": null,
   "id": "40c36709",
   "metadata": {},
   "outputs": [],
   "source": []
  },
  {
   "cell_type": "code",
   "execution_count": null,
   "id": "b0663022",
   "metadata": {},
   "outputs": [],
   "source": []
  }
 ],
 "metadata": {
  "kernelspec": {
   "display_name": "Python 3",
   "language": "python",
   "name": "python3"
  },
  "language_info": {
   "codemirror_mode": {
    "name": "ipython",
    "version": 3
   },
   "file_extension": ".py",
   "mimetype": "text/x-python",
   "name": "python",
   "nbconvert_exporter": "python",
   "pygments_lexer": "ipython3",
   "version": "3.8.10"
  }
 },
 "nbformat": 4,
 "nbformat_minor": 5
}
